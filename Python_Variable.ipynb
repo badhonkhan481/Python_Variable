{
 "cells": [
  {
   "cell_type": "code",
   "execution_count": 3,
   "id": "a5148963",
   "metadata": {},
   "outputs": [
    {
     "name": "stdout",
     "output_type": "stream",
     "text": [
      "Hello\n"
     ]
    }
   ],
   "source": [
    "print(\"Hello\")"
   ]
  },
  {
   "cell_type": "code",
   "execution_count": 5,
   "id": "8ac11332",
   "metadata": {},
   "outputs": [
    {
     "name": "stdout",
     "output_type": "stream",
     "text": [
      "Hello Badhon\n"
     ]
    }
   ],
   "source": [
    "var='Hello Badhon'\n",
    "print(var)"
   ]
  },
  {
   "cell_type": "code",
   "execution_count": 11,
   "id": "99d0d8a2",
   "metadata": {},
   "outputs": [
    {
     "data": {
      "text/plain": [
       "2004521880688"
      ]
     },
     "execution_count": 11,
     "metadata": {},
     "output_type": "execute_result"
    }
   ],
   "source": [
    "id(var) #Check id"
   ]
  },
  {
   "cell_type": "code",
   "execution_count": 8,
   "id": "f526edff",
   "metadata": {},
   "outputs": [
    {
     "data": {
      "text/plain": [
       "61"
      ]
     },
     "execution_count": 8,
     "metadata": {},
     "output_type": "execute_result"
    }
   ],
   "source": [
    "import sys  #Check how much memory are spend.\n",
    "sys.getsizeof(var)"
   ]
  },
  {
   "cell_type": "code",
   "execution_count": 12,
   "id": "cce5db95",
   "metadata": {},
   "outputs": [],
   "source": [
    "#Try to write variable name proper way\n",
    "x= 100"
   ]
  },
  {
   "cell_type": "code",
   "execution_count": 13,
   "id": "4f1b938e",
   "metadata": {},
   "outputs": [
    {
     "data": {
      "text/plain": [
       "100"
      ]
     },
     "execution_count": 13,
     "metadata": {},
     "output_type": "execute_result"
    }
   ],
   "source": [
    "x"
   ]
  },
  {
   "cell_type": "code",
   "execution_count": 14,
   "id": "4b25a0a2",
   "metadata": {},
   "outputs": [],
   "source": [
    "y=100"
   ]
  },
  {
   "cell_type": "code",
   "execution_count": 15,
   "id": "f28f760f",
   "metadata": {},
   "outputs": [],
   "source": [
    "z,y,z=10,5,20"
   ]
  },
  {
   "cell_type": "code",
   "execution_count": 16,
   "id": "150ba04a",
   "metadata": {},
   "outputs": [
    {
     "data": {
      "text/plain": [
       "(20, 5, 20)"
      ]
     },
     "execution_count": 16,
     "metadata": {},
     "output_type": "execute_result"
    }
   ],
   "source": [
    "z,y,z"
   ]
  },
  {
   "cell_type": "code",
   "execution_count": 17,
   "id": "09b22462",
   "metadata": {},
   "outputs": [
    {
     "data": {
      "text/plain": [
       "(100, 5, 20)"
      ]
     },
     "execution_count": 17,
     "metadata": {},
     "output_type": "execute_result"
    }
   ],
   "source": [
    "x,y,z"
   ]
  },
  {
   "cell_type": "code",
   "execution_count": 53,
   "id": "4b74ba15",
   "metadata": {},
   "outputs": [],
   "source": [
    " #camelCaseVar\n",
    "#PascalCaseVar\n",
    "#Snake_case_var\n",
    " Versity_Id = 183002111 # snake_case_variable"
   ]
  },
  {
   "cell_type": "code",
   "execution_count": 54,
   "id": "d58f647f",
   "metadata": {},
   "outputs": [
    {
     "name": "stdout",
     "output_type": "stream",
     "text": [
      "My number is:  1000\n",
      "My number is: 50\n"
     ]
    }
   ],
   "source": [
    "k= 1000 #Global Variable\n",
    "def fun1():\n",
    "    print(\"My number is: \",k)\n",
    "fun1()\n",
    "\n",
    "def fun2():\n",
    "    k=50 #Local vriable\n",
    "    print(\"My number is:\", k)\n",
    "fun2()"
   ]
  },
  {
   "cell_type": "code",
   "execution_count": 55,
   "id": "1366d288",
   "metadata": {},
   "outputs": [
    {
     "name": "stdout",
     "output_type": "stream",
     "text": [
      "Badhon\n"
     ]
    }
   ],
   "source": [
    "print(\"Badhon\")"
   ]
  },
  {
   "cell_type": "code",
   "execution_count": null,
   "id": "1357dc25",
   "metadata": {},
   "outputs": [],
   "source": []
  }
 ],
 "metadata": {
  "kernelspec": {
   "display_name": "Python 3 (ipykernel)",
   "language": "python",
   "name": "python3"
  },
  "language_info": {
   "codemirror_mode": {
    "name": "ipython",
    "version": 3
   },
   "file_extension": ".py",
   "mimetype": "text/x-python",
   "name": "python",
   "nbconvert_exporter": "python",
   "pygments_lexer": "ipython3",
   "version": "3.9.13"
  }
 },
 "nbformat": 4,
 "nbformat_minor": 5
}
